{
  "cells": [
    {
      "cell_type": "markdown",
      "metadata": {
        "id": "view-in-github",
        "colab_type": "text"
      },
      "source": [
        "<a href=\"https://colab.research.google.com/github/Ingkonneh/Python_DS-ML/blob/main/lecture01/homework_01.ipynb\" target=\"_parent\"><img src=\"https://colab.research.google.com/assets/colab-badge.svg\" alt=\"Open In Colab\"/></a>"
      ]
    },
    {
      "cell_type": "markdown",
      "metadata": {
        "id": "NaB3qPguWN3E"
      },
      "source": [
        "(lecture01:homework1)=\n",
        "# Homework 1\n",
        "\n",
        "+ Type your name and email in the \"Student details\" section below.\n",
        "+ Develop the code and generate the figures you need to solve the problems using this notebook.\n",
        "+ For the answers that require a mathematical proof or derivation you can either:\n",
        "    \n",
        "    - Type the answer using the built-in latex capabilities. In this case, simply export the notebook as a pdf and upload it on gradescope; or\n",
        "    - You can print the notebook (after you are done with all the code), write your answers by hand, scan, turn your response to a single pdf, and upload on gradescope.\n",
        "\n",
        "+ The total homework points are 100. Please note that the problems are not weighed equally.\n",
        "\n",
        "```{note}\n",
        "+ This is due before the beginning of the next lecture.\n",
        "+ Please match all the pages corresponding to each of the questions when you submit on gradescope.\n",
        "```"
      ]
    },
    {
      "cell_type": "markdown",
      "metadata": {
        "id": "4v88tDNGWN3J"
      },
      "source": [
        "## Student details\n",
        "\n",
        "+ **First Name:** **Idrissa**\n",
        "+ **Last Name:** **konneh**\n",
        "+ **Email:** **konnehidrissa@gmail.com**"
      ]
    },
    {
      "cell_type": "markdown",
      "metadata": {
        "id": "G4rUVuOxWN3L"
      },
      "source": [
        "## Problem 1 - Python as a calculator\n",
        "\n",
        "Use Python to evaluate the following expression:\n",
        "$$\n",
        "\\frac{\\sin(\\pi/3)e^{-2}}{23^2}.\n",
        "$$"
      ]
    },
    {
      "cell_type": "code",
      "execution_count": 12,
      "metadata": {
        "id": "WO6NMpUxWN3M",
        "outputId": "478a28e9-5840-4c0c-cb16-c4af23f3551a",
        "colab": {
          "base_uri": "https://localhost:8080/"
        }
      },
      "outputs": [
        {
          "output_type": "stream",
          "name": "stdout",
          "text": [
            "0.00022155726523869355\n"
          ]
        }
      ],
      "source": [
        "# Your code here\n",
        "import math\n",
        "a = (math.sin(math.pi/3)*math.exp(-2))/(23)**2\n",
        "\n",
        "print(a)\n"
      ]
    },
    {
      "cell_type": "markdown",
      "metadata": {
        "id": "QyQj7_uDWN3O"
      },
      "source": [
        "## Problem 2 - Python types\n",
        "\n",
        "Find the type of the following Python variables.\n",
        "You may use Python's capabilities to find the type. You don't have to guess it."
      ]
    },
    {
      "cell_type": "code",
      "execution_count": null,
      "metadata": {
        "id": "WasEGCf4WN3P"
      },
      "outputs": [],
      "source": [
        "x = 4 # int"
      ]
    },
    {
      "cell_type": "code",
      "execution_count": null,
      "metadata": {
        "id": "fPZziLRCWN3Q"
      },
      "outputs": [],
      "source": [
        "y = 23.5 #float"
      ]
    },
    {
      "cell_type": "code",
      "execution_count": 16,
      "metadata": {
        "id": "GlXd2FHnWN3R",
        "outputId": "03130ea8-6c0b-40bd-ac28-53c2b3d2eb8d",
        "colab": {
          "base_uri": "https://localhost:8080/"
        }
      },
      "outputs": [
        {
          "output_type": "execute_result",
          "data": {
            "text/plain": [
              "float"
            ]
          },
          "metadata": {},
          "execution_count": 16
        }
      ],
      "source": [
        "z = 4 / 3.1 #float\n",
        "type(z)"
      ]
    },
    {
      "cell_type": "code",
      "execution_count": 15,
      "metadata": {
        "id": "i0HCdQVnWN3S",
        "outputId": "2af70014-a709-4d0f-88d9-1abac57885b1",
        "colab": {
          "base_uri": "https://localhost:8080/"
        }
      },
      "outputs": [
        {
          "output_type": "execute_result",
          "data": {
            "text/plain": [
              "tuple"
            ]
          },
          "metadata": {},
          "execution_count": 15
        }
      ],
      "source": [
        "a = (1, 2, 4) #tuple\n",
        "type(a)"
      ]
    },
    {
      "cell_type": "code",
      "execution_count": 14,
      "metadata": {
        "id": "g5PmCgCaWN3T",
        "outputId": "cb5e8973-80d2-4175-953d-5228e42a5f1d",
        "colab": {
          "base_uri": "https://localhost:8080/"
        }
      },
      "outputs": [
        {
          "output_type": "execute_result",
          "data": {
            "text/plain": [
              "list"
            ]
          },
          "metadata": {},
          "execution_count": 14
        }
      ],
      "source": [
        "b = [3, 4, 6]  #list\n",
        "type(b)"
      ]
    },
    {
      "cell_type": "code",
      "execution_count": 18,
      "metadata": {
        "id": "SAtCOR2gWN3T",
        "outputId": "5dbe82b6-7e1a-4e31-a8a9-d6984fb7a704",
        "colab": {
          "base_uri": "https://localhost:8080/",
          "height": 159
        }
      },
      "outputs": [
        {
          "output_type": "error",
          "ename": "NameError",
          "evalue": "name 'x' is not defined",
          "traceback": [
            "\u001b[0;31m---------------------------------------------------------------------------\u001b[0m",
            "\u001b[0;31mNameError\u001b[0m                                 Traceback (most recent call last)",
            "\u001b[0;32m<ipython-input-18-995c4bf7354f>\u001b[0m in \u001b[0;36m<cell line: 1>\u001b[0;34m()\u001b[0m\n\u001b[0;32m----> 1\u001b[0;31m \u001b[0mc\u001b[0m \u001b[0;34m=\u001b[0m \u001b[0mx\u001b[0m \u001b[0;34m>\u001b[0m \u001b[0;36m2\u001b[0m\u001b[0;34m\u001b[0m\u001b[0;34m\u001b[0m\u001b[0m\n\u001b[0m\u001b[1;32m      2\u001b[0m \u001b[0mtype\u001b[0m\u001b[0;34m(\u001b[0m\u001b[0mC\u001b[0m\u001b[0;34m)\u001b[0m\u001b[0;34m\u001b[0m\u001b[0;34m\u001b[0m\u001b[0m\n",
            "\u001b[0;31mNameError\u001b[0m: name 'x' is not defined"
          ]
        }
      ],
      "source": [
        "c = x > 2 #bool"
      ]
    },
    {
      "cell_type": "code",
      "execution_count": 19,
      "metadata": {
        "id": "YsX1chvmWN3U",
        "outputId": "8c60c6c8-374f-4645-b92e-f3133a98108c",
        "colab": {
          "base_uri": "https://localhost:8080/"
        }
      },
      "outputs": [
        {
          "output_type": "execute_result",
          "data": {
            "text/plain": [
              "str"
            ]
          },
          "metadata": {},
          "execution_count": 19
        }
      ],
      "source": [
        "d = 'Hello there!'  #str\n",
        "type(d)"
      ]
    },
    {
      "cell_type": "code",
      "execution_count": 21,
      "metadata": {
        "id": "PuU2v6NvWN3U",
        "outputId": "f42586e7-1844-46ce-d9f7-e01a021bae29",
        "colab": {
          "base_uri": "https://localhost:8080/"
        }
      },
      "outputs": [
        {
          "output_type": "execute_result",
          "data": {
            "text/plain": [
              "dict"
            ]
          },
          "metadata": {},
          "execution_count": 21
        }
      ],
      "source": [
        "e = {'Name': 'Ilias Bilionis',\n",
        "     'Phone number': 2106012119,\n",
        "     'Zip code': 47906}     # dict\n",
        "\n",
        "type(e)"
      ]
    },
    {
      "cell_type": "code",
      "execution_count": 22,
      "metadata": {
        "id": "wy11vqkCWN3V",
        "outputId": "735b1851-e4bb-41bb-d673-bf8147e70451",
        "colab": {
          "base_uri": "https://localhost:8080/"
        }
      },
      "outputs": [
        {
          "output_type": "execute_result",
          "data": {
            "text/plain": [
              "numpy.ndarray"
            ]
          },
          "metadata": {},
          "execution_count": 22
        }
      ],
      "source": [
        "import numpy as np\n",
        "f = np.zeros((10, 4)) #numpy.ndarray\n",
        "type(f)"
      ]
    }
  ],
  "metadata": {
    "kernelspec": {
      "display_name": "Python 3",
      "language": "python",
      "name": "python3"
    },
    "language_info": {
      "codemirror_mode": {
        "name": "ipython",
        "version": 3
      },
      "file_extension": ".py",
      "mimetype": "text/x-python",
      "name": "python",
      "nbconvert_exporter": "python",
      "pygments_lexer": "ipython3",
      "version": "3.8.8"
    },
    "colab": {
      "provenance": [],
      "include_colab_link": true
    }
  },
  "nbformat": 4,
  "nbformat_minor": 0
}